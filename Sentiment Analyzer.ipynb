{
 "cells": [
  {
   "cell_type": "markdown",
   "id": "065b6a0b",
   "metadata": {},
   "source": [
    "# Scrapping data for sentiment analysis"
   ]
  },
  {
   "cell_type": "code",
   "execution_count": null,
   "id": "72560bd9",
   "metadata": {},
   "outputs": [],
   "source": [
    "from selenium import webdriver\n",
    "from selenium.webdriver.common.by import By\n",
    "from selenium.webdriver.chrome.service import Service\n",
    "from selenium.webdriver.support.ui import WebDriverWait\n",
    "from selenium.webdriver.support import expected_conditions as EC\n",
    "from bs4 import BeautifulSoup as bs\n",
    "import time\n",
    "from webdriver_manager.microsoft import EdgeChromiumDriverManager\n",
    "import pandas as pd\n",
    "\n",
    "\n",
    "#Replaced chromedriver with edgedriver\n",
    "driver = webdriver.Edge(service=Service(EdgeChromiumDriverManager().install()))\n",
    "\n",
    "driver.get(\"https://www.rottentomatoes.com/m/black_panther_2018/reviews\")\n",
    "reviewText=[]\n",
    "\n",
    "\n",
    "# Creates \"load more\" button object.\n",
    "wait = WebDriverWait(driver, 10)\n",
    "load_more_button = wait.until(EC.element_to_be_clickable((By.XPATH, \"//*[@id='reviews']/div[3]/rt-button[2]\")))\n",
    "\n",
    "while True:\n",
    "    try:\n",
    "        page_source = driver.page_source\n",
    "        soup = bs(page_source, 'html.parser')\n",
    "        \n",
    "        reviewTable = soup.find(\"div\", {\"class\": \"review_table\"})\n",
    "        reviewText += [t.get_text() for t in reviewTable.select(\".review-row .review-text\")]\n",
    "        load_more_button = wait.until(EC.element_to_be_clickable((By.XPATH, \"//*[@id='reviews']/div[3]/rt-button[2]\")))\n",
    "        load_more_button.click()\n",
    "        time.sleep(5)\n",
    "    except:\n",
    "        break\n",
    "\n",
    "#close the browser\n",
    "driver.quit()\n",
    "\n",
    "#Creating a pandas database\n",
    "df = pd.DataFrame(reviewText, columns=['Review'])\n",
    "print(df)\n",
    "\n",
    "#Saving Data, so we don't have to scrpae again \n",
    "df.to_csv('./Fresh_Data.csv', index=False)"
   ]
  },
  {
   "cell_type": "code",
   "execution_count": 1,
   "id": "56276a08",
   "metadata": {},
   "outputs": [
    {
     "name": "stdout",
     "output_type": "stream",
     "text": [
      "                                                Review\n",
      "0    Marvel movies proved they could keep on evolvi...\n",
      "1    A heady mix of William Shakespeare and Walt Di...\n",
      "2    [The film's] central struggle is one that you ...\n",
      "3    Wakanda Forever is the big screen outing that ...\n",
      "4    But “Black Panther” isn’t just a cultural stat...\n",
      "..                                                 ...\n",
      "526  It's gripping, funny, and full of spectacle, b...\n",
      "527  Not everything about Black Panther works acros...\n",
      "528  Ryan Coogler's superhero adventure is a crowd-...\n",
      "529  While many Marvel films feel like small pieces...\n",
      "530  Innovative, intelligent and empowering. When I...\n",
      "\n",
      "[531 rows x 1 columns]\n"
     ]
    }
   ],
   "source": [
    "#Loading the scraped data \n",
    "import pandas as pd\n",
    "\n",
    "df = pd.read_csv('./Fresh_Data.csv')\n",
    "print(df)"
   ]
  },
  {
   "cell_type": "markdown",
   "id": "a26ca1c3",
   "metadata": {},
   "source": [
    "# Data Cleaning"
   ]
  },
  {
   "cell_type": "code",
   "execution_count": 2,
   "id": "db9a5c1c",
   "metadata": {},
   "outputs": [
    {
     "name": "stderr",
     "output_type": "stream",
     "text": [
      "100%|███████████████████████████████████████████████████████████████████████████████| 531/531 [00:00<00:00, 651.68it/s]\n"
     ]
    }
   ],
   "source": [
    "import re\n",
    "import nltk\n",
    "from nltk.tokenize import word_tokenize\n",
    "from nltk.corpus import stopwords\n",
    "from nltk.stem.porter import PorterStemmer\n",
    "from nltk import pos_tag\n",
    "from tqdm import tqdm\n",
    "\n",
    "#nltk.download('stopwords')\n",
    "\n",
    "stemmer = PorterStemmer()\n",
    "\n",
    "# List of all the stop words, we will remove.\n",
    "all_stopwords = ['i', 'me', 'my', 'myself', 'we', 'our', 'ours', 'ourselves', 'you', \"you're\", \"you've\", \"you'll\", \"you'd\", 'your', 'yours', 'yourself', 'yourselves', 'he', 'him', 'his', 'himself', 'she', \"she's\", 'her', 'hers', 'herself', 'it', \"it's\", 'its', 'itself', 'they', 'them', 'their', 'theirs', 'themselves', 'what', 'which', 'who', 'whom', 'this', 'that', \"that'll\", 'these', 'those']\n",
    "\n",
    "corpus = []\n",
    "pos_corpus = []\n",
    "for index, row in tqdm(df.iterrows(), total = len(df)):\n",
    "    sent = re.sub('[^a-zA-Z]', ' ', row['Review']) #Dropping Special Charecters\n",
    "    sent = sent.lower()  #Case Normalization\n",
    "    sent = word_tokenize(sent) #Tokenization\n",
    "    sent = [word for word in sent if word not in all_stopwords] #Removing Stopwords\n",
    "    sent = [stemmer.stem(word) for word in sent] #Stemming \n",
    "    #pos_sent = pos_tag(sent) #Adding POS Tag\n",
    "    #pos_corpus.append(pos_sent)\n",
    "    sent = ' '.join(sent)\n",
    "    corpus.append(sent)"
   ]
  },
  {
   "cell_type": "markdown",
   "id": "e50effc7",
   "metadata": {},
   "source": [
    "# Data Transformation\n",
    "### Converting everything to vectors."
   ]
  },
  {
   "cell_type": "code",
   "execution_count": 3,
   "id": "c511f0b7",
   "metadata": {},
   "outputs": [],
   "source": [
    "import spacy #Used for vec\n",
    "nlp = spacy.load(\"en_core_web_md\")"
   ]
  },
  {
   "cell_type": "code",
   "execution_count": 4,
   "id": "bf3a1778",
   "metadata": {},
   "outputs": [
    {
     "name": "stderr",
     "output_type": "stream",
     "text": [
      "100%|████████████████████████████████████████████████████████████████████████████████| 531/531 [00:11<00:00, 47.95it/s]\n"
     ]
    }
   ],
   "source": [
    "X = []\n",
    "for sent in tqdm(corpus, total = len(corpus)):\n",
    "    doc = nlp(sent)\n",
    "    vector = doc.vector\n",
    "    X.append(vector)"
   ]
  },
  {
   "cell_type": "markdown",
   "id": "70cf13c3",
   "metadata": {},
   "source": [
    "# Predictions"
   ]
  },
  {
   "cell_type": "code",
   "execution_count": 5,
   "id": "fa35dcf7",
   "metadata": {},
   "outputs": [],
   "source": [
    "import joblib\n",
    "classifier = joblib.load('./Classifier_Sentiment_Model')"
   ]
  },
  {
   "cell_type": "code",
   "execution_count": 6,
   "id": "397597c7",
   "metadata": {},
   "outputs": [],
   "source": [
    "y_pred = classifier.predict(X)"
   ]
  },
  {
   "cell_type": "code",
   "execution_count": 7,
   "id": "3eaa6d88",
   "metadata": {},
   "outputs": [],
   "source": [
    "df['Predicted Label'] = y_pred.tolist()"
   ]
  },
  {
   "cell_type": "markdown",
   "id": "249b3b1e",
   "metadata": {},
   "source": [
    "# Saving Output"
   ]
  },
  {
   "cell_type": "code",
   "execution_count": 8,
   "id": "f79a163f",
   "metadata": {},
   "outputs": [],
   "source": [
    "df.to_csv(\"./Sentiment_Analysis_Output.csv\", sep='\\t', encoding='UTF-8', index=False)"
   ]
  },
  {
   "cell_type": "code",
   "execution_count": 9,
   "id": "8bd70b11",
   "metadata": {},
   "outputs": [
    {
     "name": "stdout",
     "output_type": "stream",
     "text": [
      "                                                Review Predicted Label\n",
      "0    Marvel movies proved they could keep on evolvi...        positive\n",
      "1    A heady mix of William Shakespeare and Walt Di...        positive\n",
      "2    [The film's] central struggle is one that you ...        positive\n",
      "3    Wakanda Forever is the big screen outing that ...        positive\n",
      "4    But “Black Panther” isn’t just a cultural stat...        positive\n",
      "..                                                 ...             ...\n",
      "526  It's gripping, funny, and full of spectacle, b...        negative\n",
      "527  Not everything about Black Panther works acros...        positive\n",
      "528  Ryan Coogler's superhero adventure is a crowd-...        positive\n",
      "529  While many Marvel films feel like small pieces...        positive\n",
      "530  Innovative, intelligent and empowering. When I...        positive\n",
      "\n",
      "[531 rows x 2 columns]\n"
     ]
    }
   ],
   "source": [
    "print(df)"
   ]
  },
  {
   "cell_type": "code",
   "execution_count": 10,
   "id": "36ce28e9",
   "metadata": {},
   "outputs": [
    {
     "data": {
      "image/png": "[encoded data removed]",
      "text/plain": [
       "<Figure size 640x480 with 1 Axes>"
      ]
     },
     "metadata": {},
     "output_type": "display_data"
    }
   ],
   "source": [
    "import matplotlib.pyplot as plt\n",
    "\n",
    "df['Predicted Label'].value_counts().plot(kind='bar')\n",
    "plt.show()"
   ]
  },
  {
   "cell_type": "code",
   "execution_count": null,
   "id": "817ec042",
   "metadata": {},
   "outputs": [],
   "source": []
  }
 ],
 "metadata": {
  "kernelspec": {
   "display_name": "Python 3 (ipykernel)",
   "language": "python",
   "name": "python3"
  },
  "language_info": {
   "codemirror_mode": {
    "name": "ipython",
    "version": 3
   },
   "file_extension": ".py",
   "mimetype": "text/x-python",
   "name": "python",
   "nbconvert_exporter": "python",
   "pygments_lexer": "ipython3",
   "version": "3.11.4"
  }
 },
 "nbformat": 4,
 "nbformat_minor": 5
}
